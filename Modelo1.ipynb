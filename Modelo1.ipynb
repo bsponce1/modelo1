{
 "cells": [
  {
   "cell_type": "code",
   "execution_count": 1,
   "id": "9197b030",
   "metadata": {},
   "outputs": [],
   "source": [
    "'''Libreria para preprocesar las imagenes y poner el tamaño de las imagenes'''\n",
    "from tensorflow.keras.preprocessing.image import ImageDataGenerator\n",
    "\n",
    "'''Creacion del tamaño del entrenamiento'''\n",
    "train_datagen = ImageDataGenerator(rescale=1 / 255.0,\n",
    "                                   rotation_range=20,\n",
    "                                   zoom_range=0.05,\n",
    "                                   width_shift_range=0.05,\n",
    "                                   height_shift_range=0.05,\n",
    "                                   shear_range=0.05,\n",
    "                                   horizontal_flip=True,\n",
    "                                   fill_mode=\"nearest\",\n",
    "                                   validation_split=0.20)\n",
    "'''Creacion del tamaño de la prueba de entrenamiento'''\n",
    "test_datagen = ImageDataGenerator(rescale=1 / 255.0,\n",
    "                                  validation_split=0.20)"
   ]
  },
  {
   "cell_type": "code",
   "execution_count": null,
   "id": "40af0a89",
   "metadata": {},
   "outputs": [],
   "source": [
    "'''Libreria para importar archivo zip'''\n",
    "import zipfile\n",
    "''''''\n",
    "with zipfile.ZipFile('dataset.zip', 'r') as zip_ref:\n",
    "    zip_ref.extractall('.')"
   ]
  }
 ],
 "metadata": {
  "kernelspec": {
   "display_name": "Python 3 (ipykernel)",
   "language": "python",
   "name": "python3"
  },
  "language_info": {
   "codemirror_mode": {
    "name": "ipython",
    "version": 3
   },
   "file_extension": ".py",
   "mimetype": "text/x-python",
   "name": "python",
   "nbconvert_exporter": "python",
   "pygments_lexer": "ipython3",
   "version": "3.9.12"
  }
 },
 "nbformat": 4,
 "nbformat_minor": 5
}
