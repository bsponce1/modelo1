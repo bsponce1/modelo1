{
 "cells": [
  {
   "cell_type": "code",
   "execution_count": 1,
   "id": "7884f376",
   "metadata": {},
   "outputs": [],
   "source": [
    "'''Libreria para preprocesar las imagenes y poner el tamaño de las imagenes'''\n",
    "from tensorflow.keras.preprocessing.image import ImageDataGenerator\n",
    "\n",
    "'''Creacion de las propiedades del entrenamiento'''\n",
    "train_datagen = ImageDataGenerator(rescale=1 / 255.0,\n",
    "                                   rotation_range=20,\n",
    "                                   zoom_range=0.05,\n",
    "                                   width_shift_range=0.05,\n",
    "                                   height_shift_range=0.05,\n",
    "                                   shear_range=0.05,\n",
    "                                   horizontal_flip=True,\n",
    "                                   fill_mode=\"nearest\",\n",
    "                                   validation_split=0.20)\n",
    "'''Creacion de las propiedades de la prueba de entrenamiento'''\n",
    "test_datagen = ImageDataGenerator(rescale=1 / 255.0,\n",
    "                                  validation_split=0.20)"
   ]
  },
  {
   "cell_type": "code",
   "execution_count": 2,
   "id": "dffb2917",
   "metadata": {},
   "outputs": [],
   "source": [
    "'''Libreria para importar archivo zip'''\n",
    "import zipfile\n",
    "'''Se carga el dataset en forma de archivo .zip '''\n",
    "with zipfile.ZipFile('dataset.zip', 'r') as zip_ref:\n",
    "    zip_ref.extractall('.')"
   ]
  },
  {
   "cell_type": "code",
   "execution_count": null,
   "id": "2a66861a",
   "metadata": {},
   "outputs": [],
   "source": []
  }
 ],
 "metadata": {
  "kernelspec": {
   "display_name": "Python 3 (ipykernel)",
   "language": "python",
   "name": "python3"
  },
  "language_info": {
   "codemirror_mode": {
    "name": "ipython",
    "version": 3
   },
   "file_extension": ".py",
   "mimetype": "text/x-python",
   "name": "python",
   "nbconvert_exporter": "python",
   "pygments_lexer": "ipython3",
   "version": "3.9.12"
  }
 },
 "nbformat": 4,
 "nbformat_minor": 5
}
